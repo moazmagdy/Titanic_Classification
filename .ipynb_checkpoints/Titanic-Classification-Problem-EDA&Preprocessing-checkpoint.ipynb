{
 "cells": [
  {
   "cell_type": "code",
   "execution_count": 1,
   "metadata": {
    "ExecuteTime": {
     "end_time": "2019-07-15T12:10:16.472404Z",
     "start_time": "2019-07-15T12:09:48.135617Z"
    }
   },
   "outputs": [],
   "source": [
    "import time\n",
    "import random\n",
    "from sklearn.preprocessing import MaxAbsScaler, StandardScaler, Normalizer, LabelEncoder, MinMaxScaler, RobustScaler, QuantileTransformer, PowerTransformer\n",
    "from IPython import display\n",
    "from pandas.plotting import scatter_matrix\n",
    "import seaborn as sns\n",
    "import matplotlib.pylab as pylab\n",
    "import matplotlib.pyplot as plt\n",
    "import pandas as pd\n",
    "import numpy as np\n",
    "import sys\n",
    "import warnings\n",
    "warnings.filterwarnings('ignore')\n",
    "\n",
    "\n",
    "%matplotlib inline\n",
    "sns.set_style('white')\n",
    "pylab.rcParams['figure.figsize'] = 12, 8"
   ]
  },
  {
   "cell_type": "code",
   "execution_count": 2,
   "metadata": {
    "ExecuteTime": {
     "end_time": "2019-07-15T12:25:57.896891Z",
     "start_time": "2019-07-15T12:25:57.724738Z"
    }
   },
   "outputs": [],
   "source": [
    "train = pd.read_csv('train.csv')\n",
    "train['source'] = 'train'"
   ]
  },
  {
   "cell_type": "code",
   "execution_count": 3,
   "metadata": {
    "ExecuteTime": {
     "end_time": "2019-07-15T12:25:59.649798Z",
     "start_time": "2019-07-15T12:25:59.509756Z"
    }
   },
   "outputs": [],
   "source": [
    "test = pd.read_csv('test.csv')\n",
    "test['source'] = 'test'"
   ]
  },
  {
   "cell_type": "code",
   "execution_count": 4,
   "metadata": {
    "ExecuteTime": {
     "end_time": "2019-07-15T12:26:01.065572Z",
     "start_time": "2019-07-15T12:26:01.053564Z"
    }
   },
   "outputs": [],
   "source": [
    "passngerID = test[['PassengerId']]"
   ]
  },
  {
   "cell_type": "code",
   "execution_count": 5,
   "metadata": {
    "ExecuteTime": {
     "end_time": "2019-07-15T12:26:01.782981Z",
     "start_time": "2019-07-15T12:26:01.766987Z"
    },
    "scrolled": true
   },
   "outputs": [],
   "source": [
    "data = pd.concat([train, test], axis= 0, sort= False)"
   ]
  },
  {
   "cell_type": "markdown",
   "metadata": {},
   "source": [
    "# Data Exploring"
   ]
  },
  {
   "cell_type": "code",
   "execution_count": null,
   "metadata": {
    "scrolled": true
   },
   "outputs": [],
   "source": [
    "data.head()"
   ]
  },
  {
   "cell_type": "markdown",
   "metadata": {},
   "source": [
    "### Visualizing null values."
   ]
  },
  {
   "cell_type": "code",
   "execution_count": null,
   "metadata": {},
   "outputs": [],
   "source": [
    "sns.heatmap(data.isnull(), yticklabels=False, cbar=False, cmap= 'viridis')"
   ]
  },
  {
   "cell_type": "markdown",
   "metadata": {},
   "source": [
    "- Fare column has only one null value.<br/>\n",
    "- Age column has many null values.<br/>\n",
    "- Cabin column has a majority of null values.<br/>\n",
    "- Survived column has null values for the test data."
   ]
  },
  {
   "cell_type": "code",
   "execution_count": null,
   "metadata": {},
   "outputs": [],
   "source": [
    "data.info()"
   ]
  },
  {
   "cell_type": "markdown",
   "metadata": {},
   "source": [
    "### Is data balanced?"
   ]
  },
  {
   "cell_type": "code",
   "execution_count": null,
   "metadata": {
    "scrolled": true
   },
   "outputs": [],
   "source": [
    "sns.countplot(data = data, x= 'Survived')"
   ]
  },
  {
   "cell_type": "markdown",
   "metadata": {},
   "source": [
    "### Which is the most survived gender?"
   ]
  },
  {
   "cell_type": "code",
   "execution_count": null,
   "metadata": {},
   "outputs": [],
   "source": [
    "sns.countplot(data = data, x= 'Survived', hue= 'Sex')\n",
    "plt.legend(loc =(1.1,0.9)),"
   ]
  },
  {
   "cell_type": "markdown",
   "metadata": {},
   "source": [
    "### Does first class have more survival rate?"
   ]
  },
  {
   "cell_type": "code",
   "execution_count": null,
   "metadata": {},
   "outputs": [],
   "source": [
    "sns.countplot(data = data, x='Survived', hue='Pclass')"
   ]
  },
  {
   "cell_type": "markdown",
   "metadata": {},
   "source": [
    "### The distribution of passengers' age."
   ]
  },
  {
   "cell_type": "code",
   "execution_count": null,
   "metadata": {},
   "outputs": [],
   "source": [
    "sns.distplot(data['Age'].dropna(), kde = False, bins = 35)"
   ]
  },
  {
   "cell_type": "markdown",
   "metadata": {},
   "source": [
    "### The distribution of number of siblings."
   ]
  },
  {
   "cell_type": "code",
   "execution_count": null,
   "metadata": {},
   "outputs": [],
   "source": [
    "sns.countplot(x = 'SibSp', data = data)"
   ]
  },
  {
   "cell_type": "markdown",
   "metadata": {},
   "source": [
    "### Number of passenger's in each class."
   ]
  },
  {
   "cell_type": "code",
   "execution_count": null,
   "metadata": {
    "scrolled": true
   },
   "outputs": [],
   "source": [
    "sns.countplot(data= data.dropna(), x='Pclass')"
   ]
  },
  {
   "cell_type": "markdown",
   "metadata": {},
   "source": [
    "### Proportion of each gender in different classes."
   ]
  },
  {
   "cell_type": "code",
   "execution_count": null,
   "metadata": {
    "scrolled": true
   },
   "outputs": [],
   "source": [
    "sns.countplot(data= data, x='Pclass', hue= 'Sex')"
   ]
  },
  {
   "cell_type": "markdown",
   "metadata": {},
   "source": [
    "### Ticket fare for each class."
   ]
  },
  {
   "cell_type": "code",
   "execution_count": null,
   "metadata": {
    "scrolled": true
   },
   "outputs": [],
   "source": [
    "sns.boxplot(data= data.dropna(), x='Pclass', y= 'Fare')"
   ]
  },
  {
   "cell_type": "code",
   "execution_count": null,
   "metadata": {},
   "outputs": [],
   "source": [
    "data.describe()"
   ]
  },
  {
   "cell_type": "markdown",
   "metadata": {},
   "source": [
    "# Data cleaning"
   ]
  },
  {
   "cell_type": "markdown",
   "metadata": {},
   "source": [
    "### Fill missing values in Age with the median age for the corresponding class"
   ]
  },
  {
   "cell_type": "code",
   "execution_count": 6,
   "metadata": {
    "ExecuteTime": {
     "end_time": "2019-07-15T12:26:15.903458Z",
     "start_time": "2019-07-15T12:26:15.879467Z"
    }
   },
   "outputs": [],
   "source": [
    "class_mean_age = data.pivot_table(values='Age', index='Pclass', aggfunc='median')"
   ]
  },
  {
   "cell_type": "code",
   "execution_count": 7,
   "metadata": {
    "ExecuteTime": {
     "end_time": "2019-07-15T12:26:16.653206Z",
     "start_time": "2019-07-15T12:26:16.649210Z"
    }
   },
   "outputs": [],
   "source": [
    "null_age = data['Age'].isnull()"
   ]
  },
  {
   "cell_type": "code",
   "execution_count": 8,
   "metadata": {
    "ExecuteTime": {
     "end_time": "2019-07-15T12:26:17.565563Z",
     "start_time": "2019-07-15T12:26:17.485584Z"
    }
   },
   "outputs": [],
   "source": [
    "data.loc[null_age,'Age'] = data.loc[null_age,'Pclass'].apply(lambda x: class_mean_age.loc[x] )"
   ]
  },
  {
   "cell_type": "code",
   "execution_count": 9,
   "metadata": {
    "ExecuteTime": {
     "end_time": "2019-07-15T12:26:19.175933Z",
     "start_time": "2019-07-15T12:26:19.163922Z"
    }
   },
   "outputs": [
    {
     "data": {
      "text/plain": [
       "0"
      ]
     },
     "execution_count": 9,
     "metadata": {},
     "output_type": "execute_result"
    }
   ],
   "source": [
    "data.Age.isnull().sum()"
   ]
  },
  {
   "cell_type": "markdown",
   "metadata": {},
   "source": [
    "### Fill the missing value in Fare with the median fare for the corresponding class."
   ]
  },
  {
   "cell_type": "code",
   "execution_count": 10,
   "metadata": {
    "ExecuteTime": {
     "end_time": "2019-07-15T12:26:21.262178Z",
     "start_time": "2019-07-15T12:26:21.246171Z"
    }
   },
   "outputs": [],
   "source": [
    "class_mean_fare = data.pivot_table(values= 'Fare', index= 'Pclass', aggfunc='median')"
   ]
  },
  {
   "cell_type": "code",
   "execution_count": 11,
   "metadata": {
    "ExecuteTime": {
     "end_time": "2019-07-15T12:26:22.243605Z",
     "start_time": "2019-07-15T12:26:22.235606Z"
    }
   },
   "outputs": [],
   "source": [
    "null_fare = data['Fare'].isnull()"
   ]
  },
  {
   "cell_type": "code",
   "execution_count": 12,
   "metadata": {
    "ExecuteTime": {
     "end_time": "2019-07-15T12:26:23.077633Z",
     "start_time": "2019-07-15T12:26:23.061640Z"
    }
   },
   "outputs": [],
   "source": [
    "data.loc[null_fare, 'Fare'] = data.loc[null_fare, 'Pclass'].apply(lambda x: class_mean_fare.loc[x] )"
   ]
  },
  {
   "cell_type": "code",
   "execution_count": 13,
   "metadata": {
    "ExecuteTime": {
     "end_time": "2019-07-15T12:26:24.007217Z",
     "start_time": "2019-07-15T12:26:23.995223Z"
    },
    "scrolled": true
   },
   "outputs": [
    {
     "data": {
      "text/plain": [
       "0"
      ]
     },
     "execution_count": 13,
     "metadata": {},
     "output_type": "execute_result"
    }
   ],
   "source": [
    "data.Fare.isnull().sum()"
   ]
  },
  {
   "cell_type": "markdown",
   "metadata": {},
   "source": [
    "### Fill the missing values in Embarked with the most common port for corresponding class."
   ]
  },
  {
   "cell_type": "code",
   "execution_count": 14,
   "metadata": {
    "ExecuteTime": {
     "end_time": "2019-07-15T12:26:25.578249Z",
     "start_time": "2019-07-15T12:26:25.566240Z"
    }
   },
   "outputs": [
    {
     "data": {
      "text/plain": [
       "S    914\n",
       "C    270\n",
       "Q    123\n",
       "Name: Embarked, dtype: int64"
      ]
     },
     "execution_count": 14,
     "metadata": {},
     "output_type": "execute_result"
    }
   ],
   "source": [
    "data.Embarked.value_counts()"
   ]
  },
  {
   "cell_type": "code",
   "execution_count": 15,
   "metadata": {
    "ExecuteTime": {
     "end_time": "2019-07-15T12:26:26.445036Z",
     "start_time": "2019-07-15T12:26:26.437040Z"
    }
   },
   "outputs": [],
   "source": [
    "data['Embarked'] = data.Embarked.fillna('S')"
   ]
  },
  {
   "cell_type": "code",
   "execution_count": 16,
   "metadata": {
    "ExecuteTime": {
     "end_time": "2019-07-15T12:26:27.216532Z",
     "start_time": "2019-07-15T12:26:27.204536Z"
    }
   },
   "outputs": [
    {
     "data": {
      "text/plain": [
       "0"
      ]
     },
     "execution_count": 16,
     "metadata": {},
     "output_type": "execute_result"
    }
   ],
   "source": [
    "data.Embarked.isnull().sum()"
   ]
  },
  {
   "cell_type": "markdown",
   "metadata": {},
   "source": [
    "# Feature Engineering"
   ]
  },
  {
   "cell_type": "markdown",
   "metadata": {},
   "source": [
    "## Create New features"
   ]
  },
  {
   "cell_type": "markdown",
   "metadata": {
    "scrolled": true
   },
   "source": [
    "### Create a new feature with the title of each passenger."
   ]
  },
  {
   "cell_type": "code",
   "execution_count": 17,
   "metadata": {
    "ExecuteTime": {
     "end_time": "2019-07-15T12:26:29.135630Z",
     "start_time": "2019-07-15T12:26:29.123635Z"
    }
   },
   "outputs": [],
   "source": [
    "data['Title'] = data.Name.apply(lambda x : x[x.find(',')+2:x.find('.')])"
   ]
  },
  {
   "cell_type": "code",
   "execution_count": 18,
   "metadata": {
    "ExecuteTime": {
     "end_time": "2019-07-15T12:26:30.136416Z",
     "start_time": "2019-07-15T12:26:30.124409Z"
    }
   },
   "outputs": [
    {
     "data": {
      "text/plain": [
       "Mr              757\n",
       "Miss            260\n",
       "Mrs             197\n",
       "Master           61\n",
       "Dr                8\n",
       "Rev               8\n",
       "Col               4\n",
       "Mlle              2\n",
       "Ms                2\n",
       "Major             2\n",
       "Don               1\n",
       "Jonkheer          1\n",
       "Sir               1\n",
       "Capt              1\n",
       "the Countess      1\n",
       "Lady              1\n",
       "Mme               1\n",
       "Dona              1\n",
       "Name: Title, dtype: int64"
      ]
     },
     "execution_count": 18,
     "metadata": {},
     "output_type": "execute_result"
    }
   ],
   "source": [
    "data.Title.value_counts()"
   ]
  },
  {
   "cell_type": "markdown",
   "metadata": {},
   "source": [
    "We can notice that only 4 titles have significant frequency and the others are repeated only 8 time or less.<br/> So, we will combine all titles with small frequency under one title (say, Other)."
   ]
  },
  {
   "cell_type": "code",
   "execution_count": 19,
   "metadata": {
    "ExecuteTime": {
     "end_time": "2019-07-15T12:26:32.192535Z",
     "start_time": "2019-07-15T12:26:32.184536Z"
    }
   },
   "outputs": [],
   "source": [
    "rare_titles = (data['Title'].value_counts() < 10)"
   ]
  },
  {
   "cell_type": "code",
   "execution_count": 20,
   "metadata": {
    "ExecuteTime": {
     "end_time": "2019-07-15T12:26:32.932387Z",
     "start_time": "2019-07-15T12:26:32.860418Z"
    }
   },
   "outputs": [],
   "source": [
    "data['Title'] = data['Title'].apply(lambda x : 'Other' if rare_titles.loc[x] == True else x)"
   ]
  },
  {
   "cell_type": "markdown",
   "metadata": {},
   "source": [
    "### Create a new feature for the family size"
   ]
  },
  {
   "cell_type": "markdown",
   "metadata": {},
   "source": [
    "This feature combines the number of siblings and parents/children (SibSp and Parch) +1 (The passenger himself)."
   ]
  },
  {
   "cell_type": "code",
   "execution_count": 21,
   "metadata": {
    "ExecuteTime": {
     "end_time": "2019-07-15T12:26:34.913696Z",
     "start_time": "2019-07-15T12:26:34.794174Z"
    }
   },
   "outputs": [],
   "source": [
    "data['FamilySize'] = data['SibSp'] + data['Parch'] + 1"
   ]
  },
  {
   "cell_type": "markdown",
   "metadata": {},
   "source": [
    "### Create a new feature to indicate whether the passenger was alone."
   ]
  },
  {
   "cell_type": "code",
   "execution_count": 22,
   "metadata": {
    "ExecuteTime": {
     "end_time": "2019-07-15T12:26:35.807879Z",
     "start_time": "2019-07-15T12:26:35.799883Z"
    }
   },
   "outputs": [],
   "source": [
    "data['IsAlone'] = 0"
   ]
  },
  {
   "cell_type": "code",
   "execution_count": 23,
   "metadata": {
    "ExecuteTime": {
     "end_time": "2019-07-15T12:26:36.674375Z",
     "start_time": "2019-07-15T12:26:36.606351Z"
    }
   },
   "outputs": [],
   "source": [
    "data['IsAlone'].loc[ data['FamilySize'] == 1] = 1"
   ]
  },
  {
   "cell_type": "markdown",
   "metadata": {},
   "source": [
    "### Create a new feature by discretizing Age into buckets/bins"
   ]
  },
  {
   "cell_type": "markdown",
   "metadata": {},
   "source": [
    "Age is discretized into 4 bins coresponding to 4 stages of human life:<br/>\n",
    "1. Childhood.\n",
    "2. Adolescence.\n",
    "3. Adulthood.\n",
    "4. Old Age. <br/>\n",
    "Check this link for more details: https://bit.ly/2LkPFPf"
   ]
  },
  {
   "cell_type": "code",
   "execution_count": 24,
   "metadata": {
    "ExecuteTime": {
     "end_time": "2019-07-15T12:27:23.411949Z",
     "start_time": "2019-07-15T12:27:23.403951Z"
    }
   },
   "outputs": [],
   "source": [
    "data['AgeBins'] = 0"
   ]
  },
  {
   "cell_type": "code",
   "execution_count": 25,
   "metadata": {
    "ExecuteTime": {
     "end_time": "2019-07-15T12:27:24.378517Z",
     "start_time": "2019-07-15T12:27:24.219578Z"
    }
   },
   "outputs": [],
   "source": [
    "data['AgeBins'].loc[(data['Age'] >= 11) & (data['Age'] < 20)] = 1\n",
    "data['AgeBins'].loc[(data['Age'] >= 20) & (data['Age'] < 60)] = 2\n",
    "data['AgeBins'].loc[data['Age'] >= 60] = 3"
   ]
  },
  {
   "cell_type": "markdown",
   "metadata": {},
   "source": [
    "### Create new feature by discretizing Fare into 4 buckets/bins based on quantiles."
   ]
  },
  {
   "cell_type": "code",
   "execution_count": 26,
   "metadata": {
    "ExecuteTime": {
     "end_time": "2019-07-15T12:27:25.689371Z",
     "start_time": "2019-07-15T12:27:25.665368Z"
    }
   },
   "outputs": [],
   "source": [
    "data['FareBins'] = pd.qcut(data['Fare'], 4)"
   ]
  },
  {
   "cell_type": "markdown",
   "metadata": {},
   "source": [
    "### Drop unused columns from data."
   ]
  },
  {
   "cell_type": "markdown",
   "metadata": {},
   "source": [
    "Some features are expected to not have effect of the classification such as PassengerId, Name and Ticket. <br/> Also some futures have too much missing values such as the Cabin which render it useless."
   ]
  },
  {
   "cell_type": "code",
   "execution_count": 27,
   "metadata": {
    "ExecuteTime": {
     "end_time": "2019-07-15T12:27:28.173777Z",
     "start_time": "2019-07-15T12:27:28.165781Z"
    }
   },
   "outputs": [],
   "source": [
    "data.drop(columns=['PassengerId','Name','Ticket', 'Cabin'], inplace= True)"
   ]
  },
  {
   "cell_type": "markdown",
   "metadata": {},
   "source": [
    "## Convert qualitative features into numeric form."
   ]
  },
  {
   "cell_type": "markdown",
   "metadata": {},
   "source": [
    "### Convert categorical features (Embarked, Sex, Title) to numerical features and drop one dummy variable for each."
   ]
  },
  {
   "cell_type": "code",
   "execution_count": 28,
   "metadata": {
    "ExecuteTime": {
     "end_time": "2019-07-15T12:27:30.282701Z",
     "start_time": "2019-07-15T12:27:30.262696Z"
    }
   },
   "outputs": [],
   "source": [
    "data = pd.get_dummies(\n",
    "    data, columns=['Embarked', 'Sex', 'Title'], drop_first=True)"
   ]
  },
  {
   "cell_type": "markdown",
   "metadata": {},
   "source": [
    "### Convert qualitative ordinal features (FareBins) into numeric form."
   ]
  },
  {
   "cell_type": "code",
   "execution_count": 29,
   "metadata": {
    "ExecuteTime": {
     "end_time": "2019-07-15T12:27:32.179778Z",
     "start_time": "2019-07-15T12:27:32.163784Z"
    }
   },
   "outputs": [],
   "source": [
    "label = LabelEncoder()\n",
    "data['FareBins'] = label.fit_transform(data['FareBins'])"
   ]
  },
  {
   "cell_type": "code",
   "execution_count": 30,
   "metadata": {
    "ExecuteTime": {
     "end_time": "2019-07-15T12:27:32.984306Z",
     "start_time": "2019-07-15T12:27:32.851050Z"
    }
   },
   "outputs": [
    {
     "data": {
      "text/html": [
       "<div>\n",
       "<style scoped>\n",
       "    .dataframe tbody tr th:only-of-type {\n",
       "        vertical-align: middle;\n",
       "    }\n",
       "\n",
       "    .dataframe tbody tr th {\n",
       "        vertical-align: top;\n",
       "    }\n",
       "\n",
       "    .dataframe thead th {\n",
       "        text-align: right;\n",
       "    }\n",
       "</style>\n",
       "<table border=\"1\" class=\"dataframe\">\n",
       "  <thead>\n",
       "    <tr style=\"text-align: right;\">\n",
       "      <th></th>\n",
       "      <th>Survived</th>\n",
       "      <th>Pclass</th>\n",
       "      <th>Age</th>\n",
       "      <th>SibSp</th>\n",
       "      <th>Parch</th>\n",
       "      <th>Fare</th>\n",
       "      <th>source</th>\n",
       "      <th>FamilySize</th>\n",
       "      <th>IsAlone</th>\n",
       "      <th>AgeBins</th>\n",
       "      <th>FareBins</th>\n",
       "      <th>Embarked_Q</th>\n",
       "      <th>Embarked_S</th>\n",
       "      <th>Sex_male</th>\n",
       "      <th>Title_Miss</th>\n",
       "      <th>Title_Mr</th>\n",
       "      <th>Title_Mrs</th>\n",
       "      <th>Title_Other</th>\n",
       "    </tr>\n",
       "  </thead>\n",
       "  <tbody>\n",
       "    <tr>\n",
       "      <th>0</th>\n",
       "      <td>0.0</td>\n",
       "      <td>3</td>\n",
       "      <td>22.0</td>\n",
       "      <td>1</td>\n",
       "      <td>0</td>\n",
       "      <td>7.2500</td>\n",
       "      <td>train</td>\n",
       "      <td>2</td>\n",
       "      <td>0</td>\n",
       "      <td>2</td>\n",
       "      <td>0</td>\n",
       "      <td>0</td>\n",
       "      <td>1</td>\n",
       "      <td>1</td>\n",
       "      <td>0</td>\n",
       "      <td>1</td>\n",
       "      <td>0</td>\n",
       "      <td>0</td>\n",
       "    </tr>\n",
       "    <tr>\n",
       "      <th>1</th>\n",
       "      <td>1.0</td>\n",
       "      <td>1</td>\n",
       "      <td>38.0</td>\n",
       "      <td>1</td>\n",
       "      <td>0</td>\n",
       "      <td>71.2833</td>\n",
       "      <td>train</td>\n",
       "      <td>2</td>\n",
       "      <td>0</td>\n",
       "      <td>2</td>\n",
       "      <td>3</td>\n",
       "      <td>0</td>\n",
       "      <td>0</td>\n",
       "      <td>0</td>\n",
       "      <td>0</td>\n",
       "      <td>0</td>\n",
       "      <td>1</td>\n",
       "      <td>0</td>\n",
       "    </tr>\n",
       "    <tr>\n",
       "      <th>2</th>\n",
       "      <td>1.0</td>\n",
       "      <td>3</td>\n",
       "      <td>26.0</td>\n",
       "      <td>0</td>\n",
       "      <td>0</td>\n",
       "      <td>7.9250</td>\n",
       "      <td>train</td>\n",
       "      <td>1</td>\n",
       "      <td>1</td>\n",
       "      <td>2</td>\n",
       "      <td>1</td>\n",
       "      <td>0</td>\n",
       "      <td>1</td>\n",
       "      <td>0</td>\n",
       "      <td>1</td>\n",
       "      <td>0</td>\n",
       "      <td>0</td>\n",
       "      <td>0</td>\n",
       "    </tr>\n",
       "    <tr>\n",
       "      <th>3</th>\n",
       "      <td>1.0</td>\n",
       "      <td>1</td>\n",
       "      <td>35.0</td>\n",
       "      <td>1</td>\n",
       "      <td>0</td>\n",
       "      <td>53.1000</td>\n",
       "      <td>train</td>\n",
       "      <td>2</td>\n",
       "      <td>0</td>\n",
       "      <td>2</td>\n",
       "      <td>3</td>\n",
       "      <td>0</td>\n",
       "      <td>1</td>\n",
       "      <td>0</td>\n",
       "      <td>0</td>\n",
       "      <td>0</td>\n",
       "      <td>1</td>\n",
       "      <td>0</td>\n",
       "    </tr>\n",
       "    <tr>\n",
       "      <th>4</th>\n",
       "      <td>0.0</td>\n",
       "      <td>3</td>\n",
       "      <td>35.0</td>\n",
       "      <td>0</td>\n",
       "      <td>0</td>\n",
       "      <td>8.0500</td>\n",
       "      <td>train</td>\n",
       "      <td>1</td>\n",
       "      <td>1</td>\n",
       "      <td>2</td>\n",
       "      <td>1</td>\n",
       "      <td>0</td>\n",
       "      <td>1</td>\n",
       "      <td>1</td>\n",
       "      <td>0</td>\n",
       "      <td>1</td>\n",
       "      <td>0</td>\n",
       "      <td>0</td>\n",
       "    </tr>\n",
       "    <tr>\n",
       "      <th>5</th>\n",
       "      <td>0.0</td>\n",
       "      <td>3</td>\n",
       "      <td>24.0</td>\n",
       "      <td>0</td>\n",
       "      <td>0</td>\n",
       "      <td>8.4583</td>\n",
       "      <td>train</td>\n",
       "      <td>1</td>\n",
       "      <td>1</td>\n",
       "      <td>2</td>\n",
       "      <td>1</td>\n",
       "      <td>1</td>\n",
       "      <td>0</td>\n",
       "      <td>1</td>\n",
       "      <td>0</td>\n",
       "      <td>1</td>\n",
       "      <td>0</td>\n",
       "      <td>0</td>\n",
       "    </tr>\n",
       "    <tr>\n",
       "      <th>6</th>\n",
       "      <td>0.0</td>\n",
       "      <td>1</td>\n",
       "      <td>54.0</td>\n",
       "      <td>0</td>\n",
       "      <td>0</td>\n",
       "      <td>51.8625</td>\n",
       "      <td>train</td>\n",
       "      <td>1</td>\n",
       "      <td>1</td>\n",
       "      <td>2</td>\n",
       "      <td>3</td>\n",
       "      <td>0</td>\n",
       "      <td>1</td>\n",
       "      <td>1</td>\n",
       "      <td>0</td>\n",
       "      <td>1</td>\n",
       "      <td>0</td>\n",
       "      <td>0</td>\n",
       "    </tr>\n",
       "  </tbody>\n",
       "</table>\n",
       "</div>"
      ],
      "text/plain": [
       "   Survived  Pclass   Age  SibSp  Parch     Fare source  FamilySize  IsAlone  \\\n",
       "0       0.0       3  22.0      1      0   7.2500  train           2        0   \n",
       "1       1.0       1  38.0      1      0  71.2833  train           2        0   \n",
       "2       1.0       3  26.0      0      0   7.9250  train           1        1   \n",
       "3       1.0       1  35.0      1      0  53.1000  train           2        0   \n",
       "4       0.0       3  35.0      0      0   8.0500  train           1        1   \n",
       "5       0.0       3  24.0      0      0   8.4583  train           1        1   \n",
       "6       0.0       1  54.0      0      0  51.8625  train           1        1   \n",
       "\n",
       "   AgeBins  FareBins  Embarked_Q  Embarked_S  Sex_male  Title_Miss  Title_Mr  \\\n",
       "0        2         0           0           1         1           0         1   \n",
       "1        2         3           0           0         0           0         0   \n",
       "2        2         1           0           1         0           1         0   \n",
       "3        2         3           0           1         0           0         0   \n",
       "4        2         1           0           1         1           0         1   \n",
       "5        2         1           1           0         1           0         1   \n",
       "6        2         3           0           1         1           0         1   \n",
       "\n",
       "   Title_Mrs  Title_Other  \n",
       "0          0            0  \n",
       "1          1            0  \n",
       "2          0            0  \n",
       "3          1            0  \n",
       "4          0            0  \n",
       "5          0            0  \n",
       "6          0            0  "
      ]
     },
     "execution_count": 30,
     "metadata": {},
     "output_type": "execute_result"
    }
   ],
   "source": [
    "data.head(7)"
   ]
  },
  {
   "cell_type": "markdown",
   "metadata": {},
   "source": [
    "## Splitting Data back to train/test sets."
   ]
  },
  {
   "cell_type": "code",
   "execution_count": 41,
   "metadata": {
    "ExecuteTime": {
     "end_time": "2019-07-15T12:56:26.975196Z",
     "start_time": "2019-07-15T12:56:26.961194Z"
    }
   },
   "outputs": [],
   "source": [
    "#Final train data\n",
    "train = data[data.source == 'train'].drop(columns = ['source']).reset_index(drop=True)\n",
    "test = data[data.source == 'test'].drop(columns = ['source','Survived']).reset_index(drop=True)"
   ]
  },
  {
   "cell_type": "code",
   "execution_count": 42,
   "metadata": {
    "ExecuteTime": {
     "end_time": "2019-07-15T12:56:27.818502Z",
     "start_time": "2019-07-15T12:56:27.813504Z"
    }
   },
   "outputs": [],
   "source": [
    "train['Survived'] = train.Survived.astype('int64')"
   ]
  },
  {
   "cell_type": "markdown",
   "metadata": {},
   "source": [
    "## Rescaling features using different scalers"
   ]
  },
  {
   "cell_type": "markdown",
   "metadata": {},
   "source": [
    "### Normalizing numeric features (Age, SibSp, Parch, FamilySize and Fare)."
   ]
  },
  {
   "cell_type": "markdown",
   "metadata": {},
   "source": [
    "We will try the following scalers and we'll select the best one:\n",
    "1. MinMaxScaler\n",
    "2. MaxAbsScaler\n",
    "3. StandardScaler\n",
    "4. RobustScaler\n",
    "5. Normalizer\n",
    "6. QuantileTransformer\n",
    "7. PowerTransformer"
   ]
  },
  {
   "cell_type": "code",
   "execution_count": 43,
   "metadata": {
    "ExecuteTime": {
     "end_time": "2019-07-15T12:56:30.980259Z",
     "start_time": "2019-07-15T12:56:30.975262Z"
    }
   },
   "outputs": [],
   "source": [
    "feature_to_scale = ['Age','SibSp','Parch','FamilySize','Fare']"
   ]
  },
  {
   "cell_type": "code",
   "execution_count": 44,
   "metadata": {
    "ExecuteTime": {
     "end_time": "2019-07-15T12:56:31.883374Z",
     "start_time": "2019-07-15T12:56:31.834407Z"
    }
   },
   "outputs": [],
   "source": [
    "scalers = {}\n",
    "for i in feature_to_scale:\n",
    "    scaler = RobustScaler()\n",
    "    scaler.fit(train[[i]])\n",
    "    train[i] = scaler.transform(train[[i]])\n",
    "    test[i] = scaler.transform(test[[i]])\n",
    "    scalers.update({i:scaler})"
   ]
  },
  {
   "cell_type": "code",
   "execution_count": 45,
   "metadata": {
    "ExecuteTime": {
     "end_time": "2019-07-15T12:56:33.376850Z",
     "start_time": "2019-07-15T12:56:33.370853Z"
    }
   },
   "outputs": [
    {
     "data": {
      "text/plain": [
       "{'Age': RobustScaler(copy=True, quantile_range=(25.0, 75.0), with_centering=True,\n",
       "        with_scaling=True),\n",
       " 'SibSp': RobustScaler(copy=True, quantile_range=(25.0, 75.0), with_centering=True,\n",
       "        with_scaling=True),\n",
       " 'Parch': RobustScaler(copy=True, quantile_range=(25.0, 75.0), with_centering=True,\n",
       "        with_scaling=True),\n",
       " 'FamilySize': RobustScaler(copy=True, quantile_range=(25.0, 75.0), with_centering=True,\n",
       "        with_scaling=True),\n",
       " 'Fare': RobustScaler(copy=True, quantile_range=(25.0, 75.0), with_centering=True,\n",
       "        with_scaling=True)}"
      ]
     },
     "execution_count": 45,
     "metadata": {},
     "output_type": "execute_result"
    }
   ],
   "source": [
    "scalers"
   ]
  },
  {
   "cell_type": "markdown",
   "metadata": {},
   "source": [
    "### Exporting modified train/test data to external file."
   ]
  },
  {
   "cell_type": "code",
   "execution_count": 46,
   "metadata": {
    "ExecuteTime": {
     "end_time": "2019-07-15T12:56:35.257673Z",
     "start_time": "2019-07-15T12:56:35.191719Z"
    }
   },
   "outputs": [],
   "source": [
    "#Final Test data\n",
    "train.to_csv('train_modified.csv', index = False)\n",
    "test.to_csv('test_modified.csv', index = False)\n",
    "passngerID.to_csv('ID.csv', index = False)"
   ]
  }
 ],
 "metadata": {
  "kernelspec": {
   "display_name": "Python 3",
   "language": "python",
   "name": "python3"
  },
  "language_info": {
   "codemirror_mode": {
    "name": "ipython",
    "version": 3
   },
   "file_extension": ".py",
   "mimetype": "text/x-python",
   "name": "python",
   "nbconvert_exporter": "python",
   "pygments_lexer": "ipython3",
   "version": "3.6.8"
  },
  "toc": {
   "base_numbering": 1,
   "nav_menu": {},
   "number_sections": false,
   "sideBar": true,
   "skip_h1_title": false,
   "title_cell": "Table of Contents",
   "title_sidebar": "Contents",
   "toc_cell": false,
   "toc_position": {},
   "toc_section_display": true,
   "toc_window_display": true
  },
  "varInspector": {
   "cols": {
    "lenName": 16,
    "lenType": 16,
    "lenVar": 40
   },
   "kernels_config": {
    "python": {
     "delete_cmd_postfix": "",
     "delete_cmd_prefix": "del ",
     "library": "var_list.py",
     "varRefreshCmd": "print(var_dic_list())"
    },
    "r": {
     "delete_cmd_postfix": ") ",
     "delete_cmd_prefix": "rm(",
     "library": "var_list.r",
     "varRefreshCmd": "cat(var_dic_list()) "
    }
   },
   "types_to_exclude": [
    "module",
    "function",
    "builtin_function_or_method",
    "instance",
    "_Feature"
   ],
   "window_display": false
  }
 },
 "nbformat": 4,
 "nbformat_minor": 2
}
